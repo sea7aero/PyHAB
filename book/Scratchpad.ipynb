{
 "cells": [
  {
   "cell_type": "code",
   "execution_count": 1,
   "id": "9f1539d3",
   "metadata": {},
   "outputs": [],
   "source": [
    "from sympy import *"
   ]
  },
  {
   "cell_type": "code",
   "execution_count": 3,
   "id": "e2a74a34",
   "metadata": {},
   "outputs": [],
   "source": [
    "import pylatex as p"
   ]
  },
  {
   "cell_type": "markdown",
   "id": "fb6647fa",
   "metadata": {},
   "source": [
    "$$\n",
    "  w_{t+1} = (1 + r_{t+1}) s(w_t) + y_{t+1}\n",
    "$$ (my_other_label)"
   ]
  },
  {
   "cell_type": "markdown",
   "id": "9af17408",
   "metadata": {},
   "source": [
    "- A link to an equation directive: {eq}`my_label`\n",
    "- A link to a dollar math block: {eq}`my_other_label`\n"
   ]
  },
  {
   "cell_type": "markdown",
   "id": "cc0ffdf4",
   "metadata": {},
   "source": [
    "::::{important}\n",
    ":::{note}\n",
    "This text is **standard** _Markdown_\n",
    ":::\n",
    "::::\n"
   ]
  },
  {
   "cell_type": "code",
   "execution_count": null,
   "id": "efc958ea",
   "metadata": {},
   "outputs": [],
   "source": []
  }
 ],
 "metadata": {
  "kernelspec": {
   "display_name": "Python 3 (ipykernel)",
   "language": "python",
   "name": "python3"
  },
  "language_info": {
   "codemirror_mode": {
    "name": "ipython",
    "version": 3
   },
   "file_extension": ".py",
   "mimetype": "text/x-python",
   "name": "python",
   "nbconvert_exporter": "python",
   "pygments_lexer": "ipython3",
   "version": "3.9.1"
  }
 },
 "nbformat": 4,
 "nbformat_minor": 5
}
