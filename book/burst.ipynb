{
 "cells": [
  {
   "cell_type": "markdown",
   "metadata": {},
   "source": [
    "# Atmospheric Model\n",
    "\n",
    "It should not come as much surprise that the core of our flight simulation models are derived from a model of the atmosphere that we're flying in. There are many such atmospheric models, but the one used most commonly in aviation is the International Standard Atmosphere.\n",
    "\n",
    "...\n"
   ]
  },
  {
   "cell_type": "markdown",
   "metadata": {},
   "source": []
  },
  {
   "cell_type": "markdown",
   "metadata": {},
   "source": [
    "### Symbols used\n",
    "\n",
    "Since the primary source upon which the models in this package are built from is the ISA, I will use the symbols defined in the paper that defined it."
   ]
  },
  {
   "cell_type": "code",
   "execution_count": 128,
   "metadata": {},
   "outputs": [
    {
     "data": {
      "text/markdown": [
       "Symbol | Description\n",
       "-------|:-----------\n",
       "$A$ | Area\n",
       "$F$ | Force\n",
       "$g$ | Acceleration due to gravity\n",
       "$H$ | Geopotential height\n",
       "$h$ | Geometric height\n",
       "$P$ | Pressure\n",
       "$P_{b}$ | Pressure at the base of an atmospheric layer\n",
       "$M$ | Molecular mass\n",
       "$m$ | Mass\n",
       "$n$ | Amount of substance\n",
       "$R^{*}$ | Universal gas constant\n",
       "$R$ | Specific gas constant\n",
       "$T$ | Thermodynamic temperature\n",
       "$V$ | Volume\n",
       "$\\rho$ | Density"
      ],
      "text/plain": [
       "<symbols.SymbolTable at 0x104ace9d0>"
      ]
     },
     "metadata": {},
     "output_type": "display_data"
    }
   ],
   "source": [
    "from symbols import *\n",
    "\n",
    "display(symbol_table)"
   ]
  },
  {
   "cell_type": "markdown",
   "metadata": {},
   "source": [
    "## Atmospheric Model\n",
    "\n",
    "The basis of all of our calculations and simulations is a model of Earth's atmosphere, of which there are several.  The [International Standard Atmosphere](https://en.wikipedia.org/wiki/International_Standard_Atmosphere) (ISA) is used most commonl in the field of aviation, so that is what we will use.\n",
    "\n",
    "The ISA is a mathematical model of the atmosphere that assumes a linear temperature gradient against altitude, and derives pressure and density from the [ideal gas law](https://en.wikipedia.org/wiki/Ideal_gas_law) and [hydrostatic equilibrium](https://en.wikipedia.org/wiki/Hydrostatic_equilibrium)."
   ]
  },
  {
   "cell_type": "markdown",
   "metadata": {},
   "source": [
    "### Hydrostatic equation\n",
    "\n",
    "Our model begins by noting that since the atmosphere is not floating away into space, nor sinking to the ground, it must be at equilibrium: all vertical forces must sum to zero. That is to say, it is at [hydrostatic equilibrium](https://en.wikipedia.org/wiki/Hydrostatic_equilibrium). For a column of air in the atmosphere, the 3 forces we'll model are from the surrounding air pressure - air pushing up from below, air pushing down from above - and the weight of the column of air itself:\n",
    "\n",
    "$0 = F_{below} + F_{above} + F_{weight}$\n",
    "\n",
    "Replacing with the definitions of pressure and weight gives us (For reasons that will become apparent, we will refer to the pressure at the base of the cylinder as $P_b$ and the pressure at the top simply as $P$):"
   ]
  },
  {
   "cell_type": "code",
   "execution_count": 70,
   "metadata": {
    "scrolled": true
   },
   "outputs": [
    {
     "data": {
      "text/latex": [
       "$\\displaystyle - A P + A P_{b} - g m = 0$"
      ],
      "text/plain": [
       "Eq(-A*P + A*P_b - g*m, 0)"
      ]
     },
     "execution_count": 70,
     "metadata": {},
     "output_type": "execute_result"
    }
   ],
   "source": [
    "Eq((A*P_b) - (A*P) - (m*g), 0)"
   ]
  },
  {
   "cell_type": "code",
   "execution_count": 71,
   "metadata": {},
   "outputs": [
    {
     "data": {
      "text/latex": [
       "$\\displaystyle - A P + A P_{b} - V g \\rho = 0$"
      ],
      "text/plain": [
       "Eq(-A*P + A*P_b - V*g*rho, 0)"
      ]
     },
     "execution_count": 71,
     "metadata": {},
     "output_type": "execute_result"
    }
   ],
   "source": [
    "# The mass of a column of air is its volume multiplied by its density:\n",
    "# m = V * rho\n",
    "_.replace(m, V*rho)"
   ]
  },
  {
   "cell_type": "code",
   "execution_count": 72,
   "metadata": {
    "scrolled": true
   },
   "outputs": [
    {
     "data": {
      "text/latex": [
       "$\\displaystyle - A P + A P_{b} - A g h \\rho = 0$"
      ],
      "text/plain": [
       "Eq(-A*P + A*P_b - A*g*h*rho, 0)"
      ]
     },
     "execution_count": 72,
     "metadata": {},
     "output_type": "execute_result"
    }
   ],
   "source": [
    "# The volume is its area multiplied by its height.\n",
    "_.replace(V, A * h)"
   ]
  },
  {
   "cell_type": "code",
   "execution_count": 73,
   "metadata": {},
   "outputs": [
    {
     "data": {
      "text/latex": [
       "$\\displaystyle P - P_{b} + g h \\rho = 0$"
      ],
      "text/plain": [
       "Eq(P - P_b + g*h*rho, 0)"
      ]
     },
     "execution_count": 73,
     "metadata": {},
     "output_type": "execute_result"
    }
   ],
   "source": [
    "# We can simplify by removing the area:\n",
    "_ / A"
   ]
  },
  {
   "cell_type": "code",
   "execution_count": 74,
   "metadata": {},
   "outputs": [
    {
     "data": {
      "text/latex": [
       "$\\displaystyle P - P_{b} + g h \\rho = 0$"
      ],
      "text/plain": [
       "Eq(P - P_b + g*h*rho, 0)"
      ]
     },
     "execution_count": 74,
     "metadata": {},
     "output_type": "execute_result"
    }
   ],
   "source": [
    "_.replace(P-P_b, diff(P))"
   ]
  },
  {
   "cell_type": "code",
   "execution_count": 156,
   "metadata": {},
   "outputs": [
    {
     "data": {
      "text/latex": [
       "$\\displaystyle - \\log{\\left(p_{1} \\right)} + \\log{\\left(p_{2} \\right)}$"
      ],
      "text/plain": [
       "-log(p_1) + log(p_2)"
      ]
     },
     "execution_count": 156,
     "metadata": {},
     "output_type": "execute_result"
    }
   ],
   "source": [
    "z, z_1, z_2, g, R, T_v, dz = symbols('z z_1 z_2 g R T_v dz', real=True)\n",
    "p_1, p_2, dp, p = symbols('p_1 p_2 dp p', real=True)\n",
    "\n",
    "P = Symbol('P')\n",
    "integrate(1/P, (P, p_1, p_2))"
   ]
  },
  {
   "cell_type": "markdown",
   "metadata": {},
   "source": [
    "### Ideal Gas Law\n",
    "\n",
    "The first useful equation for us is the [ideal gas law](https://en.wikipedia.org/wiki/Ideal_gas_law), which relates the pressure and volume of an ideal gas to it's temperature. In short: as the temperature of a gas increases, it's pressure and/or volume must also increase.  It is commonly stated as $PV = nR^*T$, but since it can be hard to count the number of molecules in some volume of gas, it is useful to transform into the molar form through some simple substitutions. The molar form is convenient in atmoshpheric science as we can more easily measure air pressure, temperature, and density."
   ]
  },
  {
   "cell_type": "code",
   "execution_count": 8,
   "metadata": {
    "scrolled": true
   },
   "outputs": [
    {
     "data": {
      "text/latex": [
       "$\\displaystyle P V = R^{*} T n$"
      ],
      "text/plain": [
       "Eq(P*V, R^**T*n)"
      ]
     },
     "execution_count": 8,
     "metadata": {},
     "output_type": "execute_result"
    }
   ],
   "source": [
    "# pV = nRT\n",
    "ideal_gas_law = Eq(P * V, n * R_universal * T)\n",
    "ideal_gas_law"
   ]
  },
  {
   "cell_type": "code",
   "execution_count": 9,
   "metadata": {},
   "outputs": [
    {
     "data": {
      "text/latex": [
       "$\\displaystyle P V = \\frac{R^{*} T m}{M}$"
      ],
      "text/plain": [
       "Eq(P*V, R^**T*m/M)"
      ]
     },
     "execution_count": 9,
     "metadata": {},
     "output_type": "execute_result"
    }
   ],
   "source": [
    "# The amount of substance in a thing is equivalent to its mass / molecular mass:\n",
    "# n = m / M\n",
    "ideal_gas_law.subs(n, m / M)"
   ]
  },
  {
   "cell_type": "code",
   "execution_count": 10,
   "metadata": {
    "scrolled": true
   },
   "outputs": [
    {
     "ename": "AttributeError",
     "evalue": "'list' object has no attribute 'subs'",
     "output_type": "error",
     "traceback": [
      "\u001b[0;31m---------------------------------------------------------------------------\u001b[0m",
      "\u001b[0;31mAttributeError\u001b[0m                            Traceback (most recent call last)",
      "\u001b[0;32m/var/folders/gw/fwbnxl652jx80ff49ndt1x6jzjvjfq/T/ipykernel_53495/460363906.py\u001b[0m in \u001b[0;36m<module>\u001b[0;34m\u001b[0m\n\u001b[1;32m      1\u001b[0m \u001b[0;31m# Density is defined as mass / volume:\u001b[0m\u001b[0;34m\u001b[0m\u001b[0;34m\u001b[0m\u001b[0;34m\u001b[0m\u001b[0m\n\u001b[1;32m      2\u001b[0m \u001b[0;31m# rho = m / V\u001b[0m\u001b[0;34m\u001b[0m\u001b[0;34m\u001b[0m\u001b[0;34m\u001b[0m\u001b[0m\n\u001b[0;32m----> 3\u001b[0;31m \u001b[0m_\u001b[0m\u001b[0;34m.\u001b[0m\u001b[0msolve\u001b[0m\u001b[0;34m(\u001b[0m\u001b[0mP\u001b[0m\u001b[0;34m)\u001b[0m\u001b[0;34m.\u001b[0m\u001b[0msubs\u001b[0m\u001b[0;34m(\u001b[0m\u001b[0mm\u001b[0m\u001b[0;34m/\u001b[0m\u001b[0mV\u001b[0m\u001b[0;34m,\u001b[0m \u001b[0mrho\u001b[0m\u001b[0;34m)\u001b[0m\u001b[0;34m\u001b[0m\u001b[0;34m\u001b[0m\u001b[0m\n\u001b[0m",
      "\u001b[0;31mAttributeError\u001b[0m: 'list' object has no attribute 'subs'"
     ]
    }
   ],
   "source": [
    "# Density is defined as mass / volume:\n",
    "# rho = m / V\n",
    "_.solve(P).subs(m/V, rho)"
   ]
  },
  {
   "cell_type": "code",
   "execution_count": null,
   "metadata": {
    "scrolled": false
   },
   "outputs": [],
   "source": [
    "# Finally, the specific gas constant of a gas is defined as the universal gas constant / molecular mass:\n",
    "# R_sp = R / M\n",
    "molar_gas_law = _.subs(R_universal/M, R)\n",
    "molar_gas_law"
   ]
  },
  {
   "cell_type": "markdown",
   "metadata": {},
   "source": [
    "## Burst Altitude\n",
    "\n",
    "The maximum diameter of a given balloon is given by its manufacturer.  If we know the volume of gas that we've put into the balloon, we can use the ideal gas law to determine the pressure at which the balloon will burst.\n",
    "\n"
   ]
  },
  {
   "cell_type": "code",
   "execution_count": null,
   "metadata": {},
   "outputs": [],
   "source": [
    "r = symbols('r')\n",
    "\n",
    "volume_of_sphere = Eq(V, Rational(4,3)*pi*r**3)\n",
    "volume_of_sphere\n",
    "\n",
    "foo = ideal_gas_law.subs(volume_of_sphere.lhs, volume_of_sphere.rhs)\n",
    "display(foo)\n",
    "\n",
    "solved = next(iter(solveset(foo, P)))\n",
    "\n",
    "from sympy.printing.pycode import pycode\n",
    "\n",
    "display(solved)\n",
    "pycode(solved)"
   ]
  },
  {
   "cell_type": "code",
   "execution_count": null,
   "metadata": {},
   "outputs": [],
   "source": [
    "from sympy import *\n",
    "\n",
    "F_b, m, g = symbols('F_b m g')\n",
    "rho, V, r = symbols('rho V r')\n",
    "rho_air, rho_gas = symbols('rho_air rho_gas')\n",
    "\n",
    "bouyancy = Eq(F_b, m*g)\n",
    "bouyancy = bouyancy.subs({\n",
    "    m: rho*V,\n",
    "    rho: (rho_gas - rho_air),\n",
    "    V: (Rational(4,3)*pi*r**3)\n",
    "})\n",
    "\n",
    "bouyancy"
   ]
  },
  {
   "cell_type": "markdown",
   "metadata": {},
   "source": [
    "## References\n",
    "\n",
    "* [ISO 2533-1975: Standard Atmosphere](https://cdn.standards.iteh.ai/samples/7472/c203e9121d4c40e5bdc98844b1a1e2f4/ISO-2533-1975.pdf)\n",
    "* [Inspiration](https://github.com/cuspaceflight/cusf-burst-calc/blob/master/js/calc.js)\n",
    "* [And](https://northstar-www.dartmouth.edu/~klynch/pmwiki-gc/uploads/BalloonCalulations.pdf)\n",
    "* [And](https://amt.copernicus.org/articles/4/2235/2011/amt-4-2235-2011.pdf)\n"
   ]
  },
  {
   "cell_type": "code",
   "execution_count": null,
   "metadata": {},
   "outputs": [],
   "source": []
  }
 ],
 "metadata": {
  "kernelspec": {
   "display_name": "Python 3 (ipykernel)",
   "language": "python",
   "name": "python3"
  },
  "language_info": {
   "codemirror_mode": {
    "name": "ipython",
    "version": 3
   },
   "file_extension": ".py",
   "mimetype": "text/x-python",
   "name": "python",
   "nbconvert_exporter": "python",
   "pygments_lexer": "ipython3",
   "version": "3.9.1"
  }
 },
 "nbformat": 4,
 "nbformat_minor": 5
}