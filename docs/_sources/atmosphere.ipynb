{
 "cells": [
  {
   "cell_type": "markdown",
   "id": "4076562c",
   "metadata": {},
   "source": [
    "# Atmospheric Model\n",
    "\n",
    "The basis of our simulation is a model of Earth's atmosphere, of which there are several.  The [International Standard Atmosphere](https://en.wikipedia.org/wiki/International_Standard_Atmosphere) (ISA) is used by ICAO, is relatively simple, and accurate enough for our purposes.\n",
    "\n",
    "The ISA is a mathematical model of the atmosphere that assumes a linear temperature gradient against altitude, and derives pressure and density from the [ideal gas law](https://en.wikipedia.org/wiki/Ideal_gas_law) and [hydrostatic equilibrium](https://en.wikipedia.org/wiki/Hydrostatic_equilibrium)."
   ]
  },
  {
   "cell_type": "markdown",
   "id": "04de8172",
   "metadata": {},
   "source": [
    "## Symbols used\n",
    "\n",
    "Since the primary source upon which the models in this package are built from is the ISA, I will use the symbols defined in the paper that defined it."
   ]
  },
  {
   "cell_type": "code",
   "execution_count": 1,
   "id": "7cd05c5a",
   "metadata": {},
   "outputs": [
    {
     "data": {
      "text/html": [
       "<table><tr><th>Symbol</th><th>Description</th></tr><tr><td>$A$</td><td>Area</td></tr><tr><td>$F$</td><td>Force</td></tr><tr><td>$g$</td><td>Acceleration due to gravity</td></tr><tr><td>$H$</td><td>Geopotential height</td></tr><tr><td>$h$</td><td>Geometric height</td></tr><tr><td>$P$</td><td>Pressure</td></tr><tr><td>$P_{b}$</td><td>Pressure at the base of an atmospheric layer</td></tr><tr><td>$M$</td><td>Molecular mass</td></tr><tr><td>$m$</td><td>Mass</td></tr><tr><td>$n$</td><td>Amount of substance</td></tr><tr><td>$R^{*}$</td><td>Universal gas constant</td></tr><tr><td>$R$</td><td>Specific gas constant</td></tr><tr><td>$T$</td><td>Thermodynamic temperature</td></tr><tr><td>$V$</td><td>Volume</td></tr><tr><td>$\\rho$</td><td>Density</td></tr>"
      ],
      "text/plain": [
       "<symple.SymbolTable at 0x10d8526a0>"
      ]
     },
     "execution_count": 1,
     "metadata": {},
     "output_type": "execute_result"
    }
   ],
   "source": [
    "from preamble import *\n",
    "symbol_table\n",
    "## WIP"
   ]
  },
  {
   "cell_type": "markdown",
   "id": "57465481",
   "metadata": {},
   "source": [
    "## Hydrostatic equation\n",
    "\n",
    "Our model begins by noting that since the atmosphere is not floating away into space, nor sinking to the ground, it must be at equilibrium: all vertical forces must sum to zero. That is to say, it is at [hydrostatic equilibrium](https://en.wikipedia.org/wiki/Hydrostatic_equilibrium). For a column of air in the atmosphere, the 3 forces we'll model are from the surrounding air pressure - air pushing up from below, air pushing down from above - and the weight of the column of air itself:\n",
    "\n",
    "$$\n",
    "\\require{action}\n",
    "\\texttip{math}{tip}\n",
    "$$\n",
    "\n",
    "$$\n",
    "F_{below} + F_{above} + F_{weight} = 0\n",
    "$$\n",
    "\n",
    "Replacing with the definitions of pressure and weight gives us (For reasons that will become apparent, we will refer to the pressure at the base of the cylinder as $P_b$ and the pressure at the top simply as $P$):"
   ]
  },
  {
   "cell_type": "code",
   "execution_count": 2,
   "id": "7815081b",
   "metadata": {
    "scrolled": true
   },
   "outputs": [
    {
     "data": {
      "text/latex": [
       "$\\displaystyle - A P + A P_{b} - g m = 0$"
      ],
      "text/plain": [
       "Eq(-A*P + A*P_b - g*m, 0)"
      ]
     },
     "execution_count": 2,
     "metadata": {},
     "output_type": "execute_result"
    }
   ],
   "source": [
    "Eq((A*P_b) - (A*P) - (m*g), 0)"
   ]
  },
  {
   "cell_type": "code",
   "execution_count": 3,
   "id": "a0011872",
   "metadata": {},
   "outputs": [
    {
     "data": {
      "text/latex": [
       "$\\displaystyle - A P + A P_{b} - V g \\rho = 0$"
      ],
      "text/plain": [
       "Eq(-A*P + A*P_b - V*g*rho, 0)"
      ]
     },
     "execution_count": 3,
     "metadata": {},
     "output_type": "execute_result"
    }
   ],
   "source": [
    "# The mass of a column of air is its volume multiplied by its density:\n",
    "# m = V * rho\n",
    "_.replace(m, V*rho)"
   ]
  },
  {
   "cell_type": "code",
   "execution_count": 4,
   "id": "1a65cd13",
   "metadata": {
    "scrolled": true
   },
   "outputs": [
    {
     "data": {
      "text/latex": [
       "$\\displaystyle - A P + A P_{b} - A g h \\rho = 0$"
      ],
      "text/plain": [
       "Eq(-A*P + A*P_b - A*g*h*rho, 0)"
      ]
     },
     "execution_count": 4,
     "metadata": {},
     "output_type": "execute_result"
    }
   ],
   "source": [
    "# The volume is its area multiplied by its height.\n",
    "_.replace(V, A * h)"
   ]
  },
  {
   "cell_type": "code",
   "execution_count": 5,
   "id": "32f03b26",
   "metadata": {},
   "outputs": [
    {
     "data": {
      "text/latex": [
       "$\\displaystyle P - P_{b} + g h \\rho = 0$"
      ],
      "text/plain": [
       "Eq(P - P_b + g*h*rho, 0)"
      ]
     },
     "execution_count": 5,
     "metadata": {},
     "output_type": "execute_result"
    }
   ],
   "source": [
    "# We can simplify by removing the area:\n",
    "_ / A"
   ]
  },
  {
   "cell_type": "code",
   "execution_count": 6,
   "id": "cc0c4981",
   "metadata": {},
   "outputs": [
    {
     "data": {
      "text/latex": [
       "$\\displaystyle P - P_{b} + g h \\rho = 0$"
      ],
      "text/plain": [
       "Eq(P - P_b + g*h*rho, 0)"
      ]
     },
     "execution_count": 6,
     "metadata": {},
     "output_type": "execute_result"
    }
   ],
   "source": [
    "_.replace(P-P_b, diff(P))"
   ]
  },
  {
   "cell_type": "code",
   "execution_count": 7,
   "id": "96ffc52a",
   "metadata": {},
   "outputs": [
    {
     "data": {
      "text/latex": [
       "$\\displaystyle P = P_{b} - g h \\rho$"
      ],
      "text/plain": [
       "Eq(P, P_b - g*h*rho)"
      ]
     },
     "execution_count": 7,
     "metadata": {},
     "output_type": "execute_result"
    }
   ],
   "source": [
    "_.solve(P)"
   ]
  },
  {
   "cell_type": "markdown",
   "id": "e18d1bff",
   "metadata": {},
   "source": [
    "### Ideal Gas Law\n",
    "\n",
    "The first useful equation for us is the [ideal gas law](https://en.wikipedia.org/wiki/Ideal_gas_law), which relates the pressure and volume of an ideal gas to it's temperature. In short: as the temperature of a gas increases, it's pressure and/or volume must also increase.  It is commonly stated as $PV = nR^*T$, but since it can be hard to count the number of molecules in some volume of gas, it is useful to transform into the molar form through some simple substitutions. The molar form is convenient in atmoshpheric science as we can more easily measure air pressure, temperature, and density."
   ]
  },
  {
   "cell_type": "code",
   "execution_count": 8,
   "id": "a90625d6",
   "metadata": {
    "scrolled": true
   },
   "outputs": [
    {
     "data": {
      "text/latex": [
       "$\\displaystyle P V = R^{*} T n$"
      ],
      "text/plain": [
       "Eq(P*V, R^**T*n)"
      ]
     },
     "execution_count": 8,
     "metadata": {},
     "output_type": "execute_result"
    }
   ],
   "source": [
    "# pV = nRT\n",
    "ideal_gas_law = Eq(P * V, n * R_universal * T)\n",
    "ideal_gas_law"
   ]
  },
  {
   "cell_type": "code",
   "execution_count": 9,
   "id": "31df0c71",
   "metadata": {},
   "outputs": [
    {
     "data": {
      "text/latex": [
       "$\\displaystyle P V = \\frac{R^{*} T m}{M}$"
      ],
      "text/plain": [
       "Eq(P*V, R^**T*m/M)"
      ]
     },
     "execution_count": 9,
     "metadata": {},
     "output_type": "execute_result"
    }
   ],
   "source": [
    "# The amount of substance in a thing is equivalent to its mass / molecular mass:\n",
    "# n = m / M\n",
    "ideal_gas_law.subs(n, m / M)"
   ]
  },
  {
   "cell_type": "code",
   "execution_count": 10,
   "id": "52cce5ae",
   "metadata": {
    "scrolled": true
   },
   "outputs": [
    {
     "data": {
      "text/latex": [
       "$\\displaystyle P = \\frac{R^{*} T \\rho}{M}$"
      ],
      "text/plain": [
       "Eq(P, R^**T*rho/M)"
      ]
     },
     "execution_count": 10,
     "metadata": {},
     "output_type": "execute_result"
    }
   ],
   "source": [
    "# Density is defined as mass / volume:\n",
    "# rho = m / V\n",
    "_.solve(P).subs(m/V, rho)"
   ]
  },
  {
   "cell_type": "code",
   "execution_count": 11,
   "id": "e770ac52",
   "metadata": {
    "scrolled": false
   },
   "outputs": [
    {
     "data": {
      "text/latex": [
       "$\\displaystyle P = R T \\rho$"
      ],
      "text/plain": [
       "Eq(P, R*T*rho)"
      ]
     },
     "execution_count": 11,
     "metadata": {},
     "output_type": "execute_result"
    }
   ],
   "source": [
    "# Finally, the specific gas constant of a gas is defined as the universal gas constant / molecular mass:\n",
    "# R_sp = R / M\n",
    "molar_gas_law = _.subs(R_universal/M, R)\n",
    "molar_gas_law"
   ]
  },
  {
   "cell_type": "markdown",
   "id": "ad7c9582",
   "metadata": {},
   "source": [
    "## Burst Altitude\n",
    "\n",
    "The maximum diameter of a given balloon is given by its manufacturer.  If we know the volume of gas that we've put into the balloon, we can use the ideal gas law to determine the pressure at which the balloon will burst.\n",
    "\n"
   ]
  },
  {
   "cell_type": "code",
   "execution_count": 12,
   "id": "eaa1594f",
   "metadata": {},
   "outputs": [
    {
     "data": {
      "text/latex": [
       "$\\displaystyle \\frac{4 \\pi P r^{3}}{3} = R^{*} T n$"
      ],
      "text/plain": [
       "Eq(4*pi*P*r**3/3, R^**T*n)"
      ]
     },
     "metadata": {},
     "output_type": "display_data"
    },
    {
     "data": {
      "text/latex": [
       "$\\displaystyle \\frac{3 R^{*} T n}{4 \\pi r^{3}}$"
      ],
      "text/plain": [
       "3*R^**T*n/(4*pi*r**3)"
      ]
     },
     "metadata": {},
     "output_type": "display_data"
    },
    {
     "data": {
      "text/plain": [
       "'(3/4)*R^**T*n/(math.pi*r**3)'"
      ]
     },
     "execution_count": 12,
     "metadata": {},
     "output_type": "execute_result"
    }
   ],
   "source": [
    "r = symbols('r')\n",
    "\n",
    "volume_of_sphere = Eq(V, Rational(4,3)*pi*r**3)\n",
    "volume_of_sphere\n",
    "\n",
    "foo = ideal_gas_law.subs(volume_of_sphere.lhs, volume_of_sphere.rhs)\n",
    "display(foo)\n",
    "\n",
    "solved = next(iter(solveset(foo, P)))\n",
    "\n",
    "from sympy.printing.pycode import pycode\n",
    "\n",
    "display(solved)\n",
    "pycode(solved)"
   ]
  },
  {
   "cell_type": "code",
   "execution_count": 13,
   "id": "07ef0964",
   "metadata": {},
   "outputs": [
    {
     "data": {
      "text/latex": [
       "$\\displaystyle F_{b} = V g \\left(- \\rho_{air} + \\rho_{gas}\\right)$"
      ],
      "text/plain": [
       "Eq(F_b, V*g*(-rho_air + rho_gas))"
      ]
     },
     "execution_count": 13,
     "metadata": {},
     "output_type": "execute_result"
    }
   ],
   "source": [
    "from sympy import *\n",
    "\n",
    "F_b, m, g = symbols('F_b m g')\n",
    "rho, V, r = symbols('rho V r')\n",
    "rho_air, rho_gas = symbols('rho_air rho_gas')\n",
    "\n",
    "bouyancy = Eq(F_b, m*g)\n",
    "bouyancy = bouyancy.subs({\n",
    "    m: rho*V,\n",
    "    rho: (rho_gas - rho_air),\n",
    "    V: (Rational(4,3)*pi*r**3)\n",
    "})\n",
    "\n",
    "bouyancy"
   ]
  },
  {
   "cell_type": "markdown",
   "id": "b397d232",
   "metadata": {},
   "source": [
    "## References\n",
    "\n",
    "* [Here](https://atoc.colorado.edu/~cassano/atoc5050/Lecture_Notes/wh_ch3_part1.pdf)\n",
    "* [ICAO Standard Atmosphere](http://www.aviationchief.com/uploads/9/2/0/9/92098238/icao_doc_7488_-_manual_of_icao_standard_atmosphere_-_3rd_edition_-_1994.pdf)\n",
    "* [ISO 2533-1975: Standard Atmosphere](https://cdn.standards.iteh.ai/samples/7472/c203e9121d4c40e5bdc98844b1a1e2f4/ISO-2533-1975.pdf)\n",
    "* [Inspiration](https://github.com/cuspaceflight/cusf-burst-calc/blob/master/js/calc.js)\n",
    "* [And](https://northstar-www.dartmouth.edu/~klynch/pmwiki-gc/uploads/BalloonCalulations.pdf)\n",
    "* [And](https://amt.copernicus.org/articles/4/2235/2011/amt-4-2235-2011.pdf)\n"
   ]
  },
  {
   "cell_type": "code",
   "execution_count": null,
   "id": "1e793ecc",
   "metadata": {},
   "outputs": [],
   "source": []
  }
 ],
 "metadata": {
  "kernelspec": {
   "display_name": "Python 3 (ipykernel)",
   "language": "python",
   "name": "python3"
  },
  "language_info": {
   "codemirror_mode": {
    "name": "ipython",
    "version": 3
   },
   "file_extension": ".py",
   "mimetype": "text/x-python",
   "name": "python",
   "nbconvert_exporter": "python",
   "pygments_lexer": "ipython3",
   "version": "3.9.1"
  }
 },
 "nbformat": 4,
 "nbformat_minor": 5
}
