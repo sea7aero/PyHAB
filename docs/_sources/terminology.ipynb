{
 "cells": [
  {
   "cell_type": "markdown",
   "id": "9d79bd46",
   "metadata": {},
   "source": [
    "# Terminology\n",
    "\n",
    "In order to more precisely communicate the models used throughout this book, we will begin with a short introduction to the terminology we use. As a balloon is a type of aircraft, we will bias towards terminology used in the aviation field.  Additionally, as our simulation is highly dependent on meterology, we will utilize terminology from there.\n",
    "\n",
    "## Coordinate Systems\n",
    "\n",
    "In order to specify a location, it must be related to a [datum](https://en.wikipedia.org/wiki/Datum_reference) - a refrence point in defining the geometry of an object. There are a large number of [geodetic datums](https://en.wikipedia.org/wiki/Geodetic_datum) used for measuring locations on Earth. In this library, unless otherwise specified, coordinates will be relative to [WGS84](https://en.wikipedia.org/wiki/World_Geodetic_System), the standard used by GPS.\n",
    "\n",
    "## Vertical Distance\n",
    "\n",
    "Since the vertical distance above some reference point (for example, the ground) is such a critical measurement for aircraft there is, of course, a wide array of jargon used. For clarity, we will use the following definitions offered by the International Civil Aviation Organization (ICAO):\n",
    "\n",
    "* **Height**: the vertical distance of an object, measured from a specific datum.\n",
    "* **Altitude**: the vertical distance of an object, measured from the mean sea level (MSL).\n",
    "* **Elevation**: the vertical distance of Earth's surface, measured from MSL.  The Earth's \"elevation\".\n",
    "\n",
    "### A note on sea level\n",
    "\n",
    "[Mean sea level](https://en.wikipedia.org/wiki/Sea_level) is itself a bit of a misnomer. It used to be measured as the mean between low-tide and high-tide for a particular location, which varies as you travel about. It's also rather hard to measure in some places (like the middle of the ocean). Nowadays, we tend to define mean sea level as the surface that would exist if the oceans were at rest, unaffected by wind, currents and moon and interconnected by canals across continental land masses. A surface of equipotential, also known as the [geoid](https://en.wikipedia.org/wiki/Geoid).\n",
    "\n",
    "In this library, unless otherwise specified, we will use [EGM84](https://en.wikipedia.org/wiki/Earth_Gravitational_Model) - a part of WGS84 - as our vertical datum.\n",
    "\n",
    "### Geometric vs geopotential height\n",
    "\n",
    "To make matters more confusing, not all vertical coordinates are actually based on length. It is commonly useful to refer to calculate altitudes from the [geopotential](https://en.wikipedia.org/wiki/Geopotential) at that location. Geopotential numbers have units $\\frac{m^2}{s^2}$, which can then be normalized by dividing by a constant nominal value of gravity with units $\\frac{m}{s^2}$, producing a value in meters. When normalizing by [standard gravity](https://en.wikipedia.org/wiki/Standard_gravity), this value is referred to as [geopotential height](https://en.wikipedia.org/wiki/Geopotential_height).\n",
    "\n",
    "### Ways to measure altitude\n",
    "\n",
    "* Pressure altitude"
   ]
  },
  {
   "cell_type": "markdown",
   "id": "19bd8644",
   "metadata": {},
   "source": [
    "Most GPS receivers report altitude as geometric height above the geoid as their vertical datum, and also report the geoidal separation from the ellipsoid.\n",
    "\n"
   ]
  },
  {
   "cell_type": "code",
   "execution_count": null,
   "id": "a440eaf1",
   "metadata": {},
   "outputs": [],
   "source": []
  }
 ],
 "metadata": {
  "kernelspec": {
   "display_name": "Python 3 (ipykernel)",
   "language": "python",
   "name": "python3"
  },
  "language_info": {
   "codemirror_mode": {
    "name": "ipython",
    "version": 3
   },
   "file_extension": ".py",
   "mimetype": "text/x-python",
   "name": "python",
   "nbconvert_exporter": "python",
   "pygments_lexer": "ipython3",
   "version": "3.9.1"
  }
 },
 "nbformat": 4,
 "nbformat_minor": 5
}
